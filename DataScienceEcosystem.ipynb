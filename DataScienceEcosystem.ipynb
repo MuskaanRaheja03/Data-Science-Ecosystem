{
 "cells": [
  {
   "cell_type": "markdown",
   "id": "bcb5bded-df5a-4c4e-9c54-39d315baf99f",
   "metadata": {},
   "source": [
    "# Data Science Tools and Ecosystem"
   ]
  },
  {
   "cell_type": "code",
   "execution_count": null,
   "id": "7abbd8d2-d89d-446e-adf5-e746d6c8600d",
   "metadata": {},
   "outputs": [],
   "source": [
    "# In this notebook, Data Science Tools and Ecosystem are summarized"
   ]
  },
  {
   "cell_type": "markdown",
   "id": "e849e1f5-55aa-477d-84fe-faa42321a97b",
   "metadata": {},
   "source": [
    "# Some of the popular languages that Data Scientists use are:\n",
    "1. Python\n",
    "2. R\n",
    "3. Scala\n",
    "4. Julia"
   ]
  },
  {
   "cell_type": "markdown",
   "id": "fda447bc-1a3f-410f-bd78-1746e532ae3c",
   "metadata": {},
   "source": [
    "# Some of the popular libraries that Data Scientists use are:\n",
    "1. Numpy\n",
    "2. Panda\n",
    "3. Matplotlib\n",
    "4. Seaborn"
   ]
  },
  {
   "cell_type": "markdown",
   "id": "f7620d7a-1e12-4823-b11c-b2e8c0315e08",
   "metadata": {},
   "source": [
    "| Data Scince Tools |\n",
    "|-------------------|\n",
    "| VS Code |\n",
    "| Git |\n",
    "|Jupyter |\n"
   ]
  },
  {
   "cell_type": "markdown",
   "id": "d69729bb-9924-4a0a-92ae-de51b50fa800",
   "metadata": {},
   "source": [
    "### Below are few examples of evaluating arthimetic expressions in python"
   ]
  },
  {
   "cell_type": "code",
   "execution_count": 54,
   "id": "e9725285-d9a9-4256-9376-10734b85c925",
   "metadata": {},
   "outputs": [
    {
     "data": {
      "text/plain": [
       "7"
      ]
     },
     "execution_count": 54,
     "metadata": {},
     "output_type": "execute_result"
    }
   ],
   "source": [
    "3+4"
   ]
  },
  {
   "cell_type": "code",
   "execution_count": 55,
   "id": "f4967626-95d9-40c3-aa12-a4bdc58ef9cc",
   "metadata": {},
   "outputs": [
    {
     "data": {
      "text/plain": [
       "10"
      ]
     },
     "execution_count": 55,
     "metadata": {},
     "output_type": "execute_result"
    }
   ],
   "source": [
    "5*2"
   ]
  },
  {
   "cell_type": "code",
   "execution_count": 56,
   "id": "0d22963f-42cc-409b-8a62-12880995ddb4",
   "metadata": {},
   "outputs": [
    {
     "data": {
      "text/plain": [
       "9"
      ]
     },
     "execution_count": 56,
     "metadata": {},
     "output_type": "execute_result"
    }
   ],
   "source": [
    "3**2"
   ]
  },
  {
   "cell_type": "code",
   "execution_count": 57,
   "id": "2cf7af2e-a3d1-45ee-ab7d-3c8e4bbbbb32",
   "metadata": {},
   "outputs": [
    {
     "data": {
      "text/plain": [
       "17"
      ]
     },
     "execution_count": 57,
     "metadata": {},
     "output_type": "execute_result"
    }
   ],
   "source": [
    "# This a simple arithmetic expression to mutiply then add integers\n",
    "(3*4)+5"
   ]
  },
  {
   "cell_type": "code",
   "execution_count": 58,
   "id": "9861e532-8dfc-4e6e-b58d-98c5e7584938",
   "metadata": {},
   "outputs": [
    {
     "name": "stdout",
     "output_type": "stream",
     "text": [
      "3.3333333333333335\n"
     ]
    }
   ],
   "source": [
    "# This will convert 200 minutes to hours by diving by 60\n",
    "minutesToHours = 200/60\n",
    "print(minutesToHours)"
   ]
  },
  {
   "cell_type": "markdown",
   "id": "d73a481c-c9bc-4f3c-a273-db0d95d9f632",
   "metadata": {},
   "source": [
    "#Objectives:\n",
    "- List popular languages for Data Science\n",
    "- List popular libraries for Data Science\n",
    "- Practice markdown\n",
    "- Perform basic arthimetic"
   ]
  },
  {
   "cell_type": "code",
   "execution_count": null,
   "id": "a01ca999-f708-44e0-bdcb-f57403dc8f08",
   "metadata": {},
   "outputs": [],
   "source": [
    "## Author\n",
    "Muskaan Raheja"
   ]
  },
  {
   "cell_type": "code",
   "execution_count": null,
   "id": "9c843ef1-4c9f-443c-b0c3-c97db1c2d9bf",
   "metadata": {},
   "outputs": [],
   "source": []
  }
 ],
 "metadata": {
  "kernelspec": {
   "display_name": "Python [conda env:base] *",
   "language": "python",
   "name": "conda-base-py"
  },
  "language_info": {
   "codemirror_mode": {
    "name": "ipython",
    "version": 3
   },
   "file_extension": ".py",
   "mimetype": "text/x-python",
   "name": "python",
   "nbconvert_exporter": "python",
   "pygments_lexer": "ipython3",
   "version": "3.12.7"
  }
 },
 "nbformat": 4,
 "nbformat_minor": 5
}
